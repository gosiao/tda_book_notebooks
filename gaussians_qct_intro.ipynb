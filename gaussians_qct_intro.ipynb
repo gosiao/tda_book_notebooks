{
 "cells": [
  {
   "cell_type": "code",
   "execution_count": 1,
   "id": "7d733a90",
   "metadata": {},
   "outputs": [],
   "source": [
    "# import what you need\n",
    "\n",
    "import pandas as pd\n",
    "import numpy as np\n",
    "\n",
    "\n",
    "# adapt display options\n",
    "def set_pandas_display_options() -> None:\n",
    "    \"\"\"Set pandas display options.\"\"\"\n",
    "    # Ref: https://stackoverflow.com/a/52432757/\n",
    "    display = pd.options.display\n",
    "\n",
    "    display.max_columns = 1000\n",
    "    display.max_rows = 1000\n",
    "    display.max_colwidth = 199\n",
    "    display.width = 1000\n",
    "    display.precision = 2  # set as needed\n",
    "\n",
    "set_pandas_display_options()\n"
   ]
  },
  {
   "cell_type": "markdown",
   "id": "5b895820",
   "metadata": {},
   "source": [
    "## TOC: <a class=\"anchor\" id=\"toc\"></a>\n",
    "* [First Bullet Header](#first-bullet)\n",
    "* [Second Bullet Header](#second-bullet)"
   ]
  },
  {
   "cell_type": "markdown",
   "id": "453652d2",
   "metadata": {},
   "source": [
    "[go to TOC](#toc)\n",
    "\n",
    "## First Bullet Header <a class=\"anchor\" id=\"first-bullet\"></a> "
   ]
  },
  {
   "cell_type": "markdown",
   "id": "ebd5e63d",
   "metadata": {},
   "source": [
    "[go to TOC](#toc)\n",
    "\n",
    "## Second Bullet Header <a class=\"anchor\" id=\"second-bullet\"></a>"
   ]
  },
  {
   "cell_type": "code",
   "execution_count": null,
   "id": "afc566ba",
   "metadata": {},
   "outputs": [],
   "source": []
  }
 ],
 "metadata": {
  "kernelspec": {
   "display_name": "Python 3",
   "language": "python",
   "name": "python3"
  },
  "language_info": {
   "codemirror_mode": {
    "name": "ipython",
    "version": 3
   },
   "file_extension": ".py",
   "mimetype": "text/x-python",
   "name": "python",
   "nbconvert_exporter": "python",
   "pygments_lexer": "ipython3",
   "version": "3.9.12"
  }
 },
 "nbformat": 4,
 "nbformat_minor": 5
}
